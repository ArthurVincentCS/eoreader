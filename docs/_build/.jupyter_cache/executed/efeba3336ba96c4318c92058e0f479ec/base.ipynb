version https://git-lfs.github.com/spec/v1
oid sha256:4bf00a10ff9affeef921b3f72e6d807db6ae89ac040323f9c582429951c29b45
size 344792
