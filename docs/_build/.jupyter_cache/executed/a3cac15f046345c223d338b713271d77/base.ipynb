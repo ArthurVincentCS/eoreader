version https://git-lfs.github.com/spec/v1
oid sha256:4113a2ddd2d9d6064a106d7f79a32081bf4f668a45a1add3e7365e5a8b56b3d5
size 1536026
