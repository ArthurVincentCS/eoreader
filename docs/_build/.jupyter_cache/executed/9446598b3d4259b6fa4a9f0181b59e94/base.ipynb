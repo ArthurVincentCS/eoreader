version https://git-lfs.github.com/spec/v1
oid sha256:abbf9baf88b2d33ff186ef2abd8c883f4d7fc544f07c98252f209461f6e2cede
size 1571265
