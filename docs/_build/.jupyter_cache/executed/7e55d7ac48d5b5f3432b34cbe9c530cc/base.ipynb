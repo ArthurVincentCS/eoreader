version https://git-lfs.github.com/spec/v1
oid sha256:e3b733261fda9256542c67bc9ee76fba2c6ebbfaf363688be34726a94278d701
size 18759
