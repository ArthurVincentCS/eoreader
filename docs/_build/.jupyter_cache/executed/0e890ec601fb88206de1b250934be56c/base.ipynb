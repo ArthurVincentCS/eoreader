version https://git-lfs.github.com/spec/v1
oid sha256:70f7e2ad59602254641664759c7030a5487d0c88194f49386f52da985d3cf4ab
size 820336
