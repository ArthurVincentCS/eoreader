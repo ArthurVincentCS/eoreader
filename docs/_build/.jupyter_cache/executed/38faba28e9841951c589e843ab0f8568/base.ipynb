version https://git-lfs.github.com/spec/v1
oid sha256:58f520e989116f4f6af35010028b5f3bf7a65b1979d41c40e375855f33494a1e
size 258539
