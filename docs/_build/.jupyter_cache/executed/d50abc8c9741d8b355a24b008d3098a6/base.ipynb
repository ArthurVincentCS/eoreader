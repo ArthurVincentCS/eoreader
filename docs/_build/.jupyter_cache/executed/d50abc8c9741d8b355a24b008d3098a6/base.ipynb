version https://git-lfs.github.com/spec/v1
oid sha256:8658a2dcc549c442f98ddeb229fa21954d640db368c21da54e28bf83279f5142
size 1614022
