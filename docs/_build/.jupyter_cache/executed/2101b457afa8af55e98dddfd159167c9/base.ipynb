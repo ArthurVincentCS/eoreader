version https://git-lfs.github.com/spec/v1
oid sha256:3d87df466f5a526fba0ee9713fad4d7819656c9fba77e8bdd3b9f5c40105d41a
size 893761
