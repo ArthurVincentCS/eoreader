version https://git-lfs.github.com/spec/v1
oid sha256:abf406972f60e73b2d43af9c379fef6b01b19a3bd95925448a18b6199d1e34ea
size 822064
