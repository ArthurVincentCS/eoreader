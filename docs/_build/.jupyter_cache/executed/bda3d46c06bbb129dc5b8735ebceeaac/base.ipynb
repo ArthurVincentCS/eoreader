version https://git-lfs.github.com/spec/v1
oid sha256:69cef08b682fc4204711d9c628643c9976809f6741d9cb57c710c87ed724f342
size 1632878
