version https://git-lfs.github.com/spec/v1
oid sha256:f6685c6972a143845055431c6900e4a2fa5f679aa1d5fc28d0dd6df318c86755
size 1374544
