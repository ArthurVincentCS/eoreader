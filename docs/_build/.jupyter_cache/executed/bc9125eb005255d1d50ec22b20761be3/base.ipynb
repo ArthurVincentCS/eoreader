version https://git-lfs.github.com/spec/v1
oid sha256:a84719e586a5ecb986675ec19d4f49b0d79172400f47205b3bcbe981db279cae
size 720918
