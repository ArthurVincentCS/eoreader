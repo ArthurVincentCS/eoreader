version https://git-lfs.github.com/spec/v1
oid sha256:f211c40a35ab3891fece777a33731cd911cf33f71ae687b6791e96ae07862aeb
size 1865720
