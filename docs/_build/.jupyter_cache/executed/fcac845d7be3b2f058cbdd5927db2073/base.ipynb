version https://git-lfs.github.com/spec/v1
oid sha256:bca876387470adf44ab2c6d06b4cdbf392febd950b33e307c8539d376f41e893
size 337526
