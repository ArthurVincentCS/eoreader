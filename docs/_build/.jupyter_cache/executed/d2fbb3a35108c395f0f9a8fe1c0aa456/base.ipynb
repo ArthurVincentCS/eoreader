version https://git-lfs.github.com/spec/v1
oid sha256:884425fc2c0189525aa85db47eeb23f3fb8f74fc482fcb9d66db2f956f2b775b
size 721060
